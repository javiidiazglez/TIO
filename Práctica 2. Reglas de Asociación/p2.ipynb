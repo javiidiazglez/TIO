{
  "nbformat": 4,
  "nbformat_minor": 0,
  "metadata": {
    "kernelspec": {
      "display_name": "R",
      "language": "R",
      "name": "ir"
    },
    "language_info": {
      "codemirror_mode": "r",
      "file_extension": ".r",
      "mimetype": "text/x-r-source",
      "name": "R",
      "pygments_lexer": "r",
      "version": "3.3.1"
    },
    "colab": {
      "name": "Equipo12.ipynb",
      "provenance": [],
      "collapsed_sections": []
    }
  },
  "cells": [
    {
      "cell_type": "code",
      "metadata": {
        "id": "NAU1aixyv1oN",
        "colab": {
          "base_uri": "https://localhost:8080/"
        },
        "outputId": "e2130954-4ee6-422b-dd80-f0f9976eea15"
      },
      "source": [
        "# Intalar librerias\n",
        "if (!requireNamespace(\"arules\"))\n",
        "  install.packages(\"arules\")"
      ],
      "execution_count": null,
      "outputs": [
        {
          "output_type": "stream",
          "name": "stderr",
          "text": [
            "Loading required namespace: arules\n",
            "\n"
          ]
        }
      ]
    },
    {
      "cell_type": "code",
      "metadata": {
        "id": "snSDYh2swFBL",
        "colab": {
          "base_uri": "https://localhost:8080/"
        },
        "outputId": "2e8e5ce8-09bc-4598-e1af-d8a7dbda865b"
      },
      "source": [
        "#install.packages(c(\"arulesViz\", \"tidyr\", \"dplyr\", \"ggplot2\", \"readr\"))\n",
        "if (!requireNamespace(\"arulesViz\"))\n",
        "    install.packages(\"arulesViz\")\n",
        "if (!requireNamespace(\"tidyr\"))\n",
        "    install.packages(\"tidyr\")\n",
        "if (!requireNamespace(\"dplyr\"))\n",
        "    install.packages(\"dplyr\")\n",
        "if (!requireNamespace(\"ggplot2\"))\n",
        "    install.packages(\"ggplot2\")\n",
        "if (!requireNamespace(\"readr\"))\n",
        "    install.packages(\"readr\")"
      ],
      "execution_count": null,
      "outputs": [
        {
          "output_type": "stream",
          "name": "stderr",
          "text": [
            "Loading required namespace: arulesViz\n",
            "\n"
          ]
        }
      ]
    },
    {
      "cell_type": "code",
      "metadata": {
        "id": "40JPcs23ilPv",
        "colab": {
          "base_uri": "https://localhost:8080/"
        },
        "outputId": "0842ccf6-ab72-45f6-ea6b-ea3885c99ce1"
      },
      "source": [
        "#\n",
        "# CARGA LIBRERIA Y DATOS\n",
        "# --------------------------------------------------------------\n",
        "library(arules)\n",
        "library(arulesViz);\n",
        "library(ggplot2)\n",
        "library(tidyr)\n",
        "library(dplyr)"
      ],
      "execution_count": null,
      "outputs": [
        {
          "output_type": "stream",
          "name": "stderr",
          "text": [
            "Loading required package: Matrix\n",
            "\n",
            "\n",
            "Attaching package: ‘arules’\n",
            "\n",
            "\n",
            "The following objects are masked from ‘package:base’:\n",
            "\n",
            "    abbreviate, write\n",
            "\n",
            "\n",
            "\n",
            "Attaching package: ‘tidyr’\n",
            "\n",
            "\n",
            "The following objects are masked from ‘package:Matrix’:\n",
            "\n",
            "    expand, pack, unpack\n",
            "\n",
            "\n",
            "\n",
            "Attaching package: ‘dplyr’\n",
            "\n",
            "\n",
            "The following objects are masked from ‘package:arules’:\n",
            "\n",
            "    intersect, recode, setdiff, setequal, union\n",
            "\n",
            "\n",
            "The following objects are masked from ‘package:stats’:\n",
            "\n",
            "    filter, lag\n",
            "\n",
            "\n",
            "The following objects are masked from ‘package:base’:\n",
            "\n",
            "    intersect, setdiff, setequal, union\n",
            "\n",
            "\n"
          ]
        }
      ]
    },
    {
      "cell_type": "code",
      "metadata": {
        "id": "5r85cnqcjzIv",
        "colab": {
          "base_uri": "https://localhost:8080/"
        },
        "outputId": "53b075f9-b8cb-4c16-e351-0b28ce451e70"
      },
      "source": [
        "library(readr)\n",
        "# Arrastramos el fichero Groceries.csv la carpeta Archivos\n",
        "#MisDatos <- read_csv(\"OnlineRetail_12.csv\")\n",
        "MisDatos <- read_delim(\"OnlineRetail_12.csv\",\";\", escape_double = FALSE, col_types = cols(Description = col_character()), trim_ws = TRUE)\n",
        "\n",
        "\n",
        "# TRANSFORMA Data.Frame en TRANSACCIONAL\n",
        "# --------------------------------------------------------------\n",
        "# Transforma  data.frame en transaccional\n",
        "trx       <- MisDatos  #Misdatos\n",
        "trx       <- split(trx$Description,trx$InvoiceNo) # convierte datos en lista\n",
        "trx       <- as(trx,\"transactions\") # convierte datos en transacciones\n"
      ],
      "execution_count": null,
      "outputs": [
        {
          "output_type": "stream",
          "name": "stderr",
          "text": [
            "Warning message in asMethod(object):\n",
            "“removing duplicated items in transactions”\n"
          ]
        }
      ]
    },
    {
      "cell_type": "code",
      "metadata": {
        "colab": {
          "base_uri": "https://localhost:8080/"
        },
        "id": "lozupz3fXs3y",
        "outputId": "f1eddbf6-5cc6-4103-c458-a0b54b6624c7"
      },
      "source": [
        "# CREA REGLAS\n",
        "# --------------------------------------------------------------\n",
        "reglas <- apriori(trx, parameter=list(support=0.01, confidence = 0.05)) "
      ],
      "execution_count": null,
      "outputs": [
        {
          "output_type": "stream",
          "name": "stdout",
          "text": [
            "Apriori\n",
            "\n",
            "Parameter specification:\n",
            " confidence minval smax arem  aval originalSupport maxtime support minlen\n",
            "       0.05    0.1    1 none FALSE            TRUE       5    0.01      1\n",
            " maxlen target  ext\n",
            "     10  rules TRUE\n",
            "\n",
            "Algorithmic control:\n",
            " filter tree heap memopt load sort verbose\n",
            "    0.1 TRUE TRUE  FALSE TRUE    2    TRUE\n",
            "\n",
            "Absolute minimum support count: 15 \n",
            "\n",
            "set item appearances ...[0 item(s)] done [0.00s].\n",
            "set transactions ...[2666 item(s), 1550 transaction(s)] done [0.02s].\n",
            "sorting and recoding items ... [794 item(s)] done [0.00s].\n",
            "creating transaction tree ... done [0.00s].\n",
            "checking subsets of size 1 2 3 4 5 6 7 8 9 10"
          ]
        },
        {
          "output_type": "stream",
          "name": "stderr",
          "text": [
            "Warning message in apriori(trx, parameter = list(support = 0.01, confidence = 0.05)):\n",
            "“Mining stopped (maxlen reached). Only patterns up to a length of 10 returned!”\n"
          ]
        },
        {
          "output_type": "stream",
          "name": "stdout",
          "text": [
            " done [0.10s].\n",
            "writing ... [929483 rule(s)] done [0.34s].\n",
            "creating S4 object  ... done [0.28s].\n"
          ]
        }
      ]
    },
    {
      "cell_type": "code",
      "metadata": {
        "id": "8i8tP0gevKps",
        "colab": {
          "base_uri": "https://localhost:8080/",
          "height": 1000
        },
        "outputId": "5415b94c-7164-496b-8aa9-7096bc3e0611"
      },
      "source": [
        "#Pregunta 1. data.frame con frecuencia porcentual de cada producto\n",
        "FreqProd <- data.frame(Producto=names(itemFrequency(trx)), \n",
        "                       Frecuencia=itemFrequency(trx), row.names=NULL)\n",
        "FreqProd <- FreqProd[order(FreqProd$Frecuencia, decreasing = T),]\n",
        "FreqProd"
      ],
      "execution_count": null,
      "outputs": [
        {
          "output_type": "display_data",
          "data": {
            "text/plain": [
              "     Producto                            Frecuencia  \n",
              "1758 RABBIT NIGHT LIGHT                  0.13935484  \n",
              "1557 PAPER CHAIN KIT 50'S CHRISTMAS      0.11870968  \n",
              "1561 PAPER CHAIN KIT VINTAGE CHRISTMAS   0.09161290  \n",
              "1104 HOT WATER BOTTLE KEEP CALM          0.08580645  \n",
              "2544 WHITE HANGING HEART T-LIGHT HOLDER  0.07870968  \n",
              "1162 JUMBO BAG 50'S CHRISTMAS            0.07548387  \n",
              "186  BAKING SET 9 PIECE RETROSPOT        0.07032258  \n",
              "2593 WOODEN STAR CHRISTMAS SCANDINAVIAN  0.06838710  \n",
              "1726 POPCORN HOLDER                      0.06774194  \n",
              "897  GARDENERS KNEELING PAD KEEP CALM    0.06645161  \n",
              "2586 WOODEN HEART CHRISTMAS SCANDINAVIAN 0.06516129  \n",
              "1171 JUMBO BAG RED RETROSPOT             0.06451613  \n",
              "151  ASSORTED COLOUR BIRD ORNAMENT       0.06387097  \n",
              "1167 JUMBO BAG PAISLEY PARK              0.06387097  \n",
              "1177 JUMBO BAG VINTAGE DOILY             0.06387097  \n",
              "476  CHRISTMAS CRAFT LITTLE FRIENDS      0.06322581  \n",
              "1106 HOT WATER BOTTLE TEA AND SYMPATHY   0.06322581  \n",
              "472  CHOCOLATE HOT WATER BOTTLE          0.06258065  \n",
              "1848 REGENCY CAKESTAND 3 TIER            0.06258065  \n",
              "1011 HAND WARMER OWL DESIGN              0.06064516  \n",
              "1285 LUNCH BAG PAISLEY PARK              0.06064516  \n",
              "1735 POSTAGE                             0.06064516  \n",
              "1884 RETROSPOT TEA SET CERAMIC 11 PC     0.06064516  \n",
              "2458 VINTAGE DOILY TRAVEL SEWING KIT     0.05741935  \n",
              "75   60 CAKE CASES VINTAGE CHRISTMAS     0.05677419  \n",
              "896  GARDENERS KNEELING PAD CUP OF TEA   0.05548387  \n",
              "2042 SET OF 20 VINTAGE CHRISTMAS NAPKINS 0.05483871  \n",
              "477  CHRISTMAS CRAFT TREE TOP ANGEL      0.05354839  \n",
              "1012 HAND WARMER RED LOVE HEART          0.05354839  \n",
              "1276 LOVE HOT WATER BOTTLE               0.05354839  \n",
              "⋮    ⋮                                   ⋮           \n",
              "2363 THREE CANVAS LUGGAGE TAGS           0.0006451613\n",
              "2365 TIGRIS EYE CHUNKY CHARM BRACELET    0.0006451613\n",
              "2402 TREASURE AHOY WALL ART              0.0006451613\n",
              "2416 TURQUOISE CHRISTMAS TREE            0.0006451613\n",
              "2426 UNION JACK HOT WATER BOTTLE         0.0006451613\n",
              "2427 UNION STRIPE CUSHION COVER          0.0006451613\n",
              "2430 VANILLA SCENT CANDLE JEWELLED BOX   0.0006451613\n",
              "2466 VINTAGE KEEPSAKE BOX PINK FLOWER    0.0006451613\n",
              "2474 VINTAGE RED MUG                     0.0006451613\n",
              "2476 VINTAGE ROSE BEAD BRACELET BLACK    0.0006451613\n",
              "2487 VINTAGE UNION JACK PENNANT          0.0006451613\n",
              "2488 VINTAGE UNION JACK SHOPPING BAG     0.0006451613\n",
              "2490 VINTAGE ZINC WATERING CAN           0.0006451613\n",
              "2492 VINYL RECORD FRAME SILVER           0.0006451613\n",
              "2493 VIP HOLIDAY PURSE                   0.0006451613\n",
              "2535 WHITE CANDYSTUFT ARTIFICIAL FLOWER  0.0006451613\n",
              "2537 WHITE CHRISTMAS STAR DECORATION     0.0006451613\n",
              "2538 WHITE CHRISTMAS TREE 60CM           0.0006451613\n",
              "2541 WHITE GLASS CHUNKY CHARM BRACELET   0.0006451613\n",
              "2559 WHITE SQUARE TABLE CLOCK            0.0006451613\n",
              "2564 WHITE VINTAGE CRYSTAL EARRINGS      0.0006451613\n",
              "2566 WHITE WIRE EGG HOLDER               0.0006451613\n",
              "2592 WOODEN SKITTLES GARDEN SET          0.0006451613\n",
              "2601 WOODLAND LARGE PINK FELT HEART      0.0006451613\n",
              "2623 WRAP CAROUSEL                       0.0006451613\n",
              "2625 WRAP COWBOYS                        0.0006451613\n",
              "2626 WRAP DAISY CARPET                   0.0006451613\n",
              "2645 YELLOW EASTER EGG HUNT START POST   0.0006451613\n",
              "2656 ZINC HEART LATTICE CHARGER LARGE    0.0006451613\n",
              "2660 ZINC SWEETHEART SOAP DISH           0.0006451613"
            ],
            "text/latex": "A data.frame: 2666 × 2\n\\begin{tabular}{r|ll}\n  & Producto & Frecuencia\\\\\n  & <chr> & <dbl>\\\\\n\\hline\n\t1758 & RABBIT NIGHT LIGHT                  & 0.13935484\\\\\n\t1557 & PAPER CHAIN KIT 50'S CHRISTMAS      & 0.11870968\\\\\n\t1561 & PAPER CHAIN KIT VINTAGE CHRISTMAS   & 0.09161290\\\\\n\t1104 & HOT WATER BOTTLE KEEP CALM          & 0.08580645\\\\\n\t2544 & WHITE HANGING HEART T-LIGHT HOLDER  & 0.07870968\\\\\n\t1162 & JUMBO BAG 50'S CHRISTMAS            & 0.07548387\\\\\n\t186 & BAKING SET 9 PIECE RETROSPOT        & 0.07032258\\\\\n\t2593 & WOODEN STAR CHRISTMAS SCANDINAVIAN  & 0.06838710\\\\\n\t1726 & POPCORN HOLDER                      & 0.06774194\\\\\n\t897 & GARDENERS KNEELING PAD KEEP CALM    & 0.06645161\\\\\n\t2586 & WOODEN HEART CHRISTMAS SCANDINAVIAN & 0.06516129\\\\\n\t1171 & JUMBO BAG RED RETROSPOT             & 0.06451613\\\\\n\t151 & ASSORTED COLOUR BIRD ORNAMENT       & 0.06387097\\\\\n\t1167 & JUMBO BAG PAISLEY PARK              & 0.06387097\\\\\n\t1177 & JUMBO BAG VINTAGE DOILY             & 0.06387097\\\\\n\t476 & CHRISTMAS CRAFT LITTLE FRIENDS      & 0.06322581\\\\\n\t1106 & HOT WATER BOTTLE TEA AND SYMPATHY   & 0.06322581\\\\\n\t472 & CHOCOLATE HOT WATER BOTTLE          & 0.06258065\\\\\n\t1848 & REGENCY CAKESTAND 3 TIER            & 0.06258065\\\\\n\t1011 & HAND WARMER OWL DESIGN              & 0.06064516\\\\\n\t1285 & LUNCH BAG PAISLEY PARK              & 0.06064516\\\\\n\t1735 & POSTAGE                             & 0.06064516\\\\\n\t1884 & RETROSPOT TEA SET CERAMIC 11 PC     & 0.06064516\\\\\n\t2458 & VINTAGE DOILY TRAVEL SEWING KIT     & 0.05741935\\\\\n\t75 & 60 CAKE CASES VINTAGE CHRISTMAS     & 0.05677419\\\\\n\t896 & GARDENERS KNEELING PAD CUP OF TEA   & 0.05548387\\\\\n\t2042 & SET OF 20 VINTAGE CHRISTMAS NAPKINS & 0.05483871\\\\\n\t477 & CHRISTMAS CRAFT TREE TOP ANGEL      & 0.05354839\\\\\n\t1012 & HAND WARMER RED LOVE HEART          & 0.05354839\\\\\n\t1276 & LOVE HOT WATER BOTTLE               & 0.05354839\\\\\n\t⋮ & ⋮ & ⋮\\\\\n\t2363 & THREE CANVAS LUGGAGE TAGS          & 0.0006451613\\\\\n\t2365 & TIGRIS EYE CHUNKY CHARM BRACELET   & 0.0006451613\\\\\n\t2402 & TREASURE AHOY WALL ART             & 0.0006451613\\\\\n\t2416 & TURQUOISE CHRISTMAS TREE           & 0.0006451613\\\\\n\t2426 & UNION JACK HOT WATER BOTTLE        & 0.0006451613\\\\\n\t2427 & UNION STRIPE CUSHION COVER         & 0.0006451613\\\\\n\t2430 & VANILLA SCENT CANDLE JEWELLED BOX  & 0.0006451613\\\\\n\t2466 & VINTAGE KEEPSAKE BOX PINK FLOWER   & 0.0006451613\\\\\n\t2474 & VINTAGE RED MUG                    & 0.0006451613\\\\\n\t2476 & VINTAGE ROSE BEAD BRACELET BLACK   & 0.0006451613\\\\\n\t2487 & VINTAGE UNION JACK PENNANT         & 0.0006451613\\\\\n\t2488 & VINTAGE UNION JACK SHOPPING BAG    & 0.0006451613\\\\\n\t2490 & VINTAGE ZINC WATERING CAN          & 0.0006451613\\\\\n\t2492 & VINYL RECORD FRAME SILVER          & 0.0006451613\\\\\n\t2493 & VIP HOLIDAY PURSE                  & 0.0006451613\\\\\n\t2535 & WHITE CANDYSTUFT ARTIFICIAL FLOWER & 0.0006451613\\\\\n\t2537 & WHITE CHRISTMAS STAR DECORATION    & 0.0006451613\\\\\n\t2538 & WHITE CHRISTMAS TREE 60CM          & 0.0006451613\\\\\n\t2541 & WHITE GLASS CHUNKY CHARM BRACELET  & 0.0006451613\\\\\n\t2559 & WHITE SQUARE TABLE CLOCK           & 0.0006451613\\\\\n\t2564 & WHITE VINTAGE CRYSTAL EARRINGS     & 0.0006451613\\\\\n\t2566 & WHITE WIRE EGG HOLDER              & 0.0006451613\\\\\n\t2592 & WOODEN SKITTLES GARDEN SET         & 0.0006451613\\\\\n\t2601 & WOODLAND LARGE PINK FELT HEART     & 0.0006451613\\\\\n\t2623 & WRAP CAROUSEL                      & 0.0006451613\\\\\n\t2625 & WRAP COWBOYS                       & 0.0006451613\\\\\n\t2626 & WRAP DAISY CARPET                  & 0.0006451613\\\\\n\t2645 & YELLOW EASTER EGG HUNT START POST  & 0.0006451613\\\\\n\t2656 & ZINC HEART LATTICE CHARGER LARGE   & 0.0006451613\\\\\n\t2660 & ZINC SWEETHEART SOAP DISH          & 0.0006451613\\\\\n\\end{tabular}\n",
            "text/markdown": "\nA data.frame: 2666 × 2\n\n| <!--/--> | Producto &lt;chr&gt; | Frecuencia &lt;dbl&gt; |\n|---|---|---|\n| 1758 | RABBIT NIGHT LIGHT                  | 0.13935484 |\n| 1557 | PAPER CHAIN KIT 50'S CHRISTMAS      | 0.11870968 |\n| 1561 | PAPER CHAIN KIT VINTAGE CHRISTMAS   | 0.09161290 |\n| 1104 | HOT WATER BOTTLE KEEP CALM          | 0.08580645 |\n| 2544 | WHITE HANGING HEART T-LIGHT HOLDER  | 0.07870968 |\n| 1162 | JUMBO BAG 50'S CHRISTMAS            | 0.07548387 |\n| 186 | BAKING SET 9 PIECE RETROSPOT        | 0.07032258 |\n| 2593 | WOODEN STAR CHRISTMAS SCANDINAVIAN  | 0.06838710 |\n| 1726 | POPCORN HOLDER                      | 0.06774194 |\n| 897 | GARDENERS KNEELING PAD KEEP CALM    | 0.06645161 |\n| 2586 | WOODEN HEART CHRISTMAS SCANDINAVIAN | 0.06516129 |\n| 1171 | JUMBO BAG RED RETROSPOT             | 0.06451613 |\n| 151 | ASSORTED COLOUR BIRD ORNAMENT       | 0.06387097 |\n| 1167 | JUMBO BAG PAISLEY PARK              | 0.06387097 |\n| 1177 | JUMBO BAG VINTAGE DOILY             | 0.06387097 |\n| 476 | CHRISTMAS CRAFT LITTLE FRIENDS      | 0.06322581 |\n| 1106 | HOT WATER BOTTLE TEA AND SYMPATHY   | 0.06322581 |\n| 472 | CHOCOLATE HOT WATER BOTTLE          | 0.06258065 |\n| 1848 | REGENCY CAKESTAND 3 TIER            | 0.06258065 |\n| 1011 | HAND WARMER OWL DESIGN              | 0.06064516 |\n| 1285 | LUNCH BAG PAISLEY PARK              | 0.06064516 |\n| 1735 | POSTAGE                             | 0.06064516 |\n| 1884 | RETROSPOT TEA SET CERAMIC 11 PC     | 0.06064516 |\n| 2458 | VINTAGE DOILY TRAVEL SEWING KIT     | 0.05741935 |\n| 75 | 60 CAKE CASES VINTAGE CHRISTMAS     | 0.05677419 |\n| 896 | GARDENERS KNEELING PAD CUP OF TEA   | 0.05548387 |\n| 2042 | SET OF 20 VINTAGE CHRISTMAS NAPKINS | 0.05483871 |\n| 477 | CHRISTMAS CRAFT TREE TOP ANGEL      | 0.05354839 |\n| 1012 | HAND WARMER RED LOVE HEART          | 0.05354839 |\n| 1276 | LOVE HOT WATER BOTTLE               | 0.05354839 |\n| ⋮ | ⋮ | ⋮ |\n| 2363 | THREE CANVAS LUGGAGE TAGS          | 0.0006451613 |\n| 2365 | TIGRIS EYE CHUNKY CHARM BRACELET   | 0.0006451613 |\n| 2402 | TREASURE AHOY WALL ART             | 0.0006451613 |\n| 2416 | TURQUOISE CHRISTMAS TREE           | 0.0006451613 |\n| 2426 | UNION JACK HOT WATER BOTTLE        | 0.0006451613 |\n| 2427 | UNION STRIPE CUSHION COVER         | 0.0006451613 |\n| 2430 | VANILLA SCENT CANDLE JEWELLED BOX  | 0.0006451613 |\n| 2466 | VINTAGE KEEPSAKE BOX PINK FLOWER   | 0.0006451613 |\n| 2474 | VINTAGE RED MUG                    | 0.0006451613 |\n| 2476 | VINTAGE ROSE BEAD BRACELET BLACK   | 0.0006451613 |\n| 2487 | VINTAGE UNION JACK PENNANT         | 0.0006451613 |\n| 2488 | VINTAGE UNION JACK SHOPPING BAG    | 0.0006451613 |\n| 2490 | VINTAGE ZINC WATERING CAN          | 0.0006451613 |\n| 2492 | VINYL RECORD FRAME SILVER          | 0.0006451613 |\n| 2493 | VIP HOLIDAY PURSE                  | 0.0006451613 |\n| 2535 | WHITE CANDYSTUFT ARTIFICIAL FLOWER | 0.0006451613 |\n| 2537 | WHITE CHRISTMAS STAR DECORATION    | 0.0006451613 |\n| 2538 | WHITE CHRISTMAS TREE 60CM          | 0.0006451613 |\n| 2541 | WHITE GLASS CHUNKY CHARM BRACELET  | 0.0006451613 |\n| 2559 | WHITE SQUARE TABLE CLOCK           | 0.0006451613 |\n| 2564 | WHITE VINTAGE CRYSTAL EARRINGS     | 0.0006451613 |\n| 2566 | WHITE WIRE EGG HOLDER              | 0.0006451613 |\n| 2592 | WOODEN SKITTLES GARDEN SET         | 0.0006451613 |\n| 2601 | WOODLAND LARGE PINK FELT HEART     | 0.0006451613 |\n| 2623 | WRAP CAROUSEL                      | 0.0006451613 |\n| 2625 | WRAP COWBOYS                       | 0.0006451613 |\n| 2626 | WRAP DAISY CARPET                  | 0.0006451613 |\n| 2645 | YELLOW EASTER EGG HUNT START POST  | 0.0006451613 |\n| 2656 | ZINC HEART LATTICE CHARGER LARGE   | 0.0006451613 |\n| 2660 | ZINC SWEETHEART SOAP DISH          | 0.0006451613 |\n\n",
            "text/html": [
              "<table class=\"dataframe\">\n",
              "<caption>A data.frame: 2666 × 2</caption>\n",
              "<thead>\n",
              "\t<tr><th></th><th scope=col>Producto</th><th scope=col>Frecuencia</th></tr>\n",
              "\t<tr><th></th><th scope=col>&lt;chr&gt;</th><th scope=col>&lt;dbl&gt;</th></tr>\n",
              "</thead>\n",
              "<tbody>\n",
              "\t<tr><th scope=row>1758</th><td>RABBIT NIGHT LIGHT                 </td><td>0.13935484</td></tr>\n",
              "\t<tr><th scope=row>1557</th><td>PAPER CHAIN KIT 50'S CHRISTMAS     </td><td>0.11870968</td></tr>\n",
              "\t<tr><th scope=row>1561</th><td>PAPER CHAIN KIT VINTAGE CHRISTMAS  </td><td>0.09161290</td></tr>\n",
              "\t<tr><th scope=row>1104</th><td>HOT WATER BOTTLE KEEP CALM         </td><td>0.08580645</td></tr>\n",
              "\t<tr><th scope=row>2544</th><td>WHITE HANGING HEART T-LIGHT HOLDER </td><td>0.07870968</td></tr>\n",
              "\t<tr><th scope=row>1162</th><td>JUMBO BAG 50'S CHRISTMAS           </td><td>0.07548387</td></tr>\n",
              "\t<tr><th scope=row>186</th><td>BAKING SET 9 PIECE RETROSPOT       </td><td>0.07032258</td></tr>\n",
              "\t<tr><th scope=row>2593</th><td>WOODEN STAR CHRISTMAS SCANDINAVIAN </td><td>0.06838710</td></tr>\n",
              "\t<tr><th scope=row>1726</th><td>POPCORN HOLDER                     </td><td>0.06774194</td></tr>\n",
              "\t<tr><th scope=row>897</th><td>GARDENERS KNEELING PAD KEEP CALM   </td><td>0.06645161</td></tr>\n",
              "\t<tr><th scope=row>2586</th><td>WOODEN HEART CHRISTMAS SCANDINAVIAN</td><td>0.06516129</td></tr>\n",
              "\t<tr><th scope=row>1171</th><td>JUMBO BAG RED RETROSPOT            </td><td>0.06451613</td></tr>\n",
              "\t<tr><th scope=row>151</th><td>ASSORTED COLOUR BIRD ORNAMENT      </td><td>0.06387097</td></tr>\n",
              "\t<tr><th scope=row>1167</th><td>JUMBO BAG PAISLEY PARK             </td><td>0.06387097</td></tr>\n",
              "\t<tr><th scope=row>1177</th><td>JUMBO BAG VINTAGE DOILY            </td><td>0.06387097</td></tr>\n",
              "\t<tr><th scope=row>476</th><td>CHRISTMAS CRAFT LITTLE FRIENDS     </td><td>0.06322581</td></tr>\n",
              "\t<tr><th scope=row>1106</th><td>HOT WATER BOTTLE TEA AND SYMPATHY  </td><td>0.06322581</td></tr>\n",
              "\t<tr><th scope=row>472</th><td>CHOCOLATE HOT WATER BOTTLE         </td><td>0.06258065</td></tr>\n",
              "\t<tr><th scope=row>1848</th><td>REGENCY CAKESTAND 3 TIER           </td><td>0.06258065</td></tr>\n",
              "\t<tr><th scope=row>1011</th><td>HAND WARMER OWL DESIGN             </td><td>0.06064516</td></tr>\n",
              "\t<tr><th scope=row>1285</th><td>LUNCH BAG PAISLEY PARK             </td><td>0.06064516</td></tr>\n",
              "\t<tr><th scope=row>1735</th><td>POSTAGE                            </td><td>0.06064516</td></tr>\n",
              "\t<tr><th scope=row>1884</th><td>RETROSPOT TEA SET CERAMIC 11 PC    </td><td>0.06064516</td></tr>\n",
              "\t<tr><th scope=row>2458</th><td>VINTAGE DOILY TRAVEL SEWING KIT    </td><td>0.05741935</td></tr>\n",
              "\t<tr><th scope=row>75</th><td>60 CAKE CASES VINTAGE CHRISTMAS    </td><td>0.05677419</td></tr>\n",
              "\t<tr><th scope=row>896</th><td>GARDENERS KNEELING PAD CUP OF TEA  </td><td>0.05548387</td></tr>\n",
              "\t<tr><th scope=row>2042</th><td>SET OF 20 VINTAGE CHRISTMAS NAPKINS</td><td>0.05483871</td></tr>\n",
              "\t<tr><th scope=row>477</th><td>CHRISTMAS CRAFT TREE TOP ANGEL     </td><td>0.05354839</td></tr>\n",
              "\t<tr><th scope=row>1012</th><td>HAND WARMER RED LOVE HEART         </td><td>0.05354839</td></tr>\n",
              "\t<tr><th scope=row>1276</th><td>LOVE HOT WATER BOTTLE              </td><td>0.05354839</td></tr>\n",
              "\t<tr><th scope=row>⋮</th><td>⋮</td><td>⋮</td></tr>\n",
              "\t<tr><th scope=row>2363</th><td>THREE CANVAS LUGGAGE TAGS         </td><td>0.0006451613</td></tr>\n",
              "\t<tr><th scope=row>2365</th><td>TIGRIS EYE CHUNKY CHARM BRACELET  </td><td>0.0006451613</td></tr>\n",
              "\t<tr><th scope=row>2402</th><td>TREASURE AHOY WALL ART            </td><td>0.0006451613</td></tr>\n",
              "\t<tr><th scope=row>2416</th><td>TURQUOISE CHRISTMAS TREE          </td><td>0.0006451613</td></tr>\n",
              "\t<tr><th scope=row>2426</th><td>UNION JACK HOT WATER BOTTLE       </td><td>0.0006451613</td></tr>\n",
              "\t<tr><th scope=row>2427</th><td>UNION STRIPE CUSHION COVER        </td><td>0.0006451613</td></tr>\n",
              "\t<tr><th scope=row>2430</th><td>VANILLA SCENT CANDLE JEWELLED BOX </td><td>0.0006451613</td></tr>\n",
              "\t<tr><th scope=row>2466</th><td>VINTAGE KEEPSAKE BOX PINK FLOWER  </td><td>0.0006451613</td></tr>\n",
              "\t<tr><th scope=row>2474</th><td>VINTAGE RED MUG                   </td><td>0.0006451613</td></tr>\n",
              "\t<tr><th scope=row>2476</th><td>VINTAGE ROSE BEAD BRACELET BLACK  </td><td>0.0006451613</td></tr>\n",
              "\t<tr><th scope=row>2487</th><td>VINTAGE UNION JACK PENNANT        </td><td>0.0006451613</td></tr>\n",
              "\t<tr><th scope=row>2488</th><td>VINTAGE UNION JACK SHOPPING BAG   </td><td>0.0006451613</td></tr>\n",
              "\t<tr><th scope=row>2490</th><td>VINTAGE ZINC WATERING CAN         </td><td>0.0006451613</td></tr>\n",
              "\t<tr><th scope=row>2492</th><td>VINYL RECORD FRAME SILVER         </td><td>0.0006451613</td></tr>\n",
              "\t<tr><th scope=row>2493</th><td>VIP HOLIDAY PURSE                 </td><td>0.0006451613</td></tr>\n",
              "\t<tr><th scope=row>2535</th><td>WHITE CANDYSTUFT ARTIFICIAL FLOWER</td><td>0.0006451613</td></tr>\n",
              "\t<tr><th scope=row>2537</th><td>WHITE CHRISTMAS STAR DECORATION   </td><td>0.0006451613</td></tr>\n",
              "\t<tr><th scope=row>2538</th><td>WHITE CHRISTMAS TREE 60CM         </td><td>0.0006451613</td></tr>\n",
              "\t<tr><th scope=row>2541</th><td>WHITE GLASS CHUNKY CHARM BRACELET </td><td>0.0006451613</td></tr>\n",
              "\t<tr><th scope=row>2559</th><td>WHITE SQUARE TABLE CLOCK          </td><td>0.0006451613</td></tr>\n",
              "\t<tr><th scope=row>2564</th><td>WHITE VINTAGE CRYSTAL EARRINGS    </td><td>0.0006451613</td></tr>\n",
              "\t<tr><th scope=row>2566</th><td>WHITE WIRE EGG HOLDER             </td><td>0.0006451613</td></tr>\n",
              "\t<tr><th scope=row>2592</th><td>WOODEN SKITTLES GARDEN SET        </td><td>0.0006451613</td></tr>\n",
              "\t<tr><th scope=row>2601</th><td>WOODLAND LARGE PINK FELT HEART    </td><td>0.0006451613</td></tr>\n",
              "\t<tr><th scope=row>2623</th><td>WRAP CAROUSEL                     </td><td>0.0006451613</td></tr>\n",
              "\t<tr><th scope=row>2625</th><td>WRAP COWBOYS                      </td><td>0.0006451613</td></tr>\n",
              "\t<tr><th scope=row>2626</th><td>WRAP DAISY CARPET                 </td><td>0.0006451613</td></tr>\n",
              "\t<tr><th scope=row>2645</th><td>YELLOW EASTER EGG HUNT START POST </td><td>0.0006451613</td></tr>\n",
              "\t<tr><th scope=row>2656</th><td>ZINC HEART LATTICE CHARGER LARGE  </td><td>0.0006451613</td></tr>\n",
              "\t<tr><th scope=row>2660</th><td>ZINC SWEETHEART SOAP DISH         </td><td>0.0006451613</td></tr>\n",
              "</tbody>\n",
              "</table>\n"
            ]
          },
          "metadata": {}
        }
      ]
    },
    {
      "cell_type": "code",
      "metadata": {
        "colab": {
          "base_uri": "https://localhost:8080/"
        },
        "id": "UwcPI3-RWmHw",
        "outputId": "fa104abc-2f28-4a6b-e738-3bc087668751"
      },
      "source": [
        "#Pregunta 2. Indique las 5 reglas que tuvieron menor soporte dentro de su dataset.\n",
        "reglas <-sort(reglas, by=\"support\", decreasing=FALSE) # ordena regla \n",
        "inspect(head(reglas,5))"
      ],
      "execution_count": null,
      "outputs": [
        {
          "output_type": "stream",
          "name": "stdout",
          "text": [
            "    lhs                            rhs                                   support confidence   coverage     lift count\n",
            "[1] {FELTCRAFT GIRL NICOLE KIT} => {FELTCRAFT GIRL AMELIE KIT}        0.01032258  0.7272727 0.01419355 26.83983    16\n",
            "[2] {FELTCRAFT GIRL AMELIE KIT} => {FELTCRAFT GIRL NICOLE KIT}        0.01032258  0.3809524 0.02709677 26.83983    16\n",
            "[3] {FELTCRAFT DOLL EMILY}      => {FELTCRAFT DOLL ROSIE}             0.01032258  0.5925926 0.01741935 27.83389    16\n",
            "[4] {FELTCRAFT DOLL ROSIE}      => {FELTCRAFT DOLL EMILY}             0.01032258  0.4848485 0.02129032 27.83389    16\n",
            "[5] {GLITTER CHRISTMAS STAR}    => {CHRISTMAS HANGING STAR WITH BELL} 0.01032258  0.5925926 0.01741935 16.11436    16\n"
          ]
        }
      ]
    },
    {
      "cell_type": "code",
      "metadata": {
        "id": "-Vcpkmd6kELN",
        "colab": {
          "base_uri": "https://localhost:8080/",
          "height": 437
        },
        "outputId": "4389ffd6-2efb-4a77-8f88-d8800e154deb"
      },
      "source": [
        "#Pregunta 3. Grafique los 20 productos con mayor frecuencia de ventas.\n",
        "itemFrequencyPlot(trx,topN=20,type=\"absolute\")"
      ],
      "execution_count": null,
      "outputs": [
        {
          "output_type": "display_data",
          "data": {
            "image/png": "[encoded data removed]",
            "text/plain": [
              "plot without title"
            ]
          },
          "metadata": {
            "image/png": {
              "width": 420,
              "height": 420
            }
          }
        }
      ]
    },
    {
      "cell_type": "code",
      "metadata": {
        "colab": {
          "base_uri": "https://localhost:8080/"
        },
        "id": "NRexAXCuWz-j",
        "outputId": "67d39cda-3660-456b-dd4f-ac438595a02d"
      },
      "source": [
        "# Pregunta 4. Indique las 10 reglas que tienen mayor confianza. ¿Qué indican estas reglas?\n",
        "reglas <-sort(reglas, by=\"confidence\", decreasing=TRUE) # ordena regla \n",
        "inspect(head(reglas,10))"
      ],
      "execution_count": null,
      "outputs": [
        {
          "output_type": "stream",
          "name": "stdout",
          "text": [
            "     lhs                                      rhs                                      support confidence   coverage      lift count\n",
            "[1]  {STAR WREATH DECORATION WITH BELL,                                                                                             \n",
            "      WOODEN HEART CHRISTMAS SCANDINAVIAN} => {RED ROCKING HORSE HAND PAINTED}      0.01032258          1 0.01032258 48.437500    16\n",
            "[2]  {STAR WREATH DECORATION WITH BELL,                                                                                             \n",
            "      WOODEN STAR CHRISTMAS SCANDINAVIAN}  => {RED ROCKING HORSE HAND PAINTED}      0.01032258          1 0.01032258 48.437500    16\n",
            "[3]  {STAR WREATH DECORATION WITH BELL,                                                                                             \n",
            "      WOODEN HEART CHRISTMAS SCANDINAVIAN} => {WOODEN STAR CHRISTMAS SCANDINAVIAN}  0.01032258          1 0.01032258 14.622642    16\n",
            "[4]  {STAR WREATH DECORATION WITH BELL,                                                                                             \n",
            "      WOODEN STAR CHRISTMAS SCANDINAVIAN}  => {WOODEN HEART CHRISTMAS SCANDINAVIAN} 0.01032258          1 0.01032258 15.346535    16\n",
            "[5]  {PAPER CHAIN KIT VINTAGE CHRISTMAS,                                                                                            \n",
            "      POPPY'S PLAYHOUSE KITCHEN}           => {PAPER CHAIN KIT 50'S CHRISTMAS}      0.01032258          1 0.01032258  8.423913    16\n",
            "[6]  {CHARLOTTE BAG APPLES DESIGN,                                                                                                  \n",
            "      POPCORN HOLDER}                      => {CHARLOTTE BAG SUKI DESIGN}           0.01032258          1 0.01032258 35.227273    16\n",
            "[7]  {CHARLOTTE BAG SUKI DESIGN,                                                                                                    \n",
            "      CLASSIC CAFE SUGAR DISPENSER}        => {WOODLAND CHARLOTTE BAG}              0.01032258          1 0.01032258 32.978723    16\n",
            "[8]  {CLASSIC CAFE SUGAR DISPENSER,                                                                                                 \n",
            "      WOODLAND CHARLOTTE BAG}              => {CHARLOTTE BAG SUKI DESIGN}           0.01032258          1 0.01032258 35.227273    16\n",
            "[9]  {JUMBO BAG VINTAGE LEAF,                                                                                                       \n",
            "      WOODEN HEART CHRISTMAS SCANDINAVIAN} => {WOODEN STAR CHRISTMAS SCANDINAVIAN}  0.01032258          1 0.01032258 14.622642    16\n",
            "[10] {JUMBO BAG VINTAGE LEAF,                                                                                                       \n",
            "      WOODEN STAR CHRISTMAS SCANDINAVIAN}  => {WOODEN HEART CHRISTMAS SCANDINAVIAN} 0.01032258          1 0.01032258 15.346535    16\n"
          ]
        }
      ]
    },
    {
      "cell_type": "code",
      "metadata": {
        "id": "R-yz2SpfoBPv",
        "colab": {
          "base_uri": "https://localhost:8080/"
        },
        "outputId": "c16d5a75-0347-4264-bb1d-6d8adbd4f3b9"
      },
      "source": [
        "#Pregunta 5. imprime las 3 reglas con mayor confianza (Probando 3 reglas)\n",
        "reglas <-sort(reglas, by=\"confidence\", decreasing=TRUE) # ordena regla \n",
        "inspect(head(reglas,3))"
      ],
      "execution_count": null,
      "outputs": [
        {
          "output_type": "stream",
          "name": "stdout",
          "text": [
            "    lhs                                      rhs                                     support confidence   coverage     lift count\n",
            "[1] {STAR WREATH DECORATION WITH BELL,                                                                                           \n",
            "     WOODEN HEART CHRISTMAS SCANDINAVIAN} => {RED ROCKING HORSE HAND PAINTED}     0.01032258          1 0.01032258 48.43750    16\n",
            "[2] {STAR WREATH DECORATION WITH BELL,                                                                                           \n",
            "     WOODEN STAR CHRISTMAS SCANDINAVIAN}  => {RED ROCKING HORSE HAND PAINTED}     0.01032258          1 0.01032258 48.43750    16\n",
            "[3] {STAR WREATH DECORATION WITH BELL,                                                                                           \n",
            "     WOODEN HEART CHRISTMAS SCANDINAVIAN} => {WOODEN STAR CHRISTMAS SCANDINAVIAN} 0.01032258          1 0.01032258 14.62264    16\n"
          ]
        }
      ]
    },
    {
      "cell_type": "markdown",
      "metadata": {
        "id": "pW2HK8UaAtM7"
      },
      "source": [
        "Pregunta 7. Support 0.01 y 2 confidence (0.01 y 0.05)\n"
      ]
    },
    {
      "cell_type": "code",
      "metadata": {
        "id": "6Tntgcs0-BQK"
      },
      "source": [
        "#Pregunta 8. Guarde las transacciones obtenidas del datset en un fichero llamado MyMarket.csv. \n",
        "write(sort(reglas, by=\"support\", decreasing=TRUE), file = \"MyMarket.csv\", sep = \",\")"
      ],
      "execution_count": 27,
      "outputs": []
    }
  ]
}